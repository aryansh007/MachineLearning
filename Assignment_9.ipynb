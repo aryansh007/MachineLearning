{
  "nbformat": 4,
  "nbformat_minor": 0,
  "metadata": {
    "colab": {
      "name": "Assignment_9.ipynb",
      "provenance": [],
      "authorship_tag": "ABX9TyNJIFMcg6MmhDiJbVctRVRY",
      "include_colab_link": true
    },
    "kernelspec": {
      "name": "python3",
      "display_name": "Python 3"
    }
  },
  "cells": [
    {
      "cell_type": "markdown",
      "metadata": {
        "id": "view-in-github",
        "colab_type": "text"
      },
      "source": [
        "<a href=\"https://colab.research.google.com/github/aryansh007/MachineLearning/blob/main/Assignment_9.ipynb\" target=\"_parent\"><img src=\"https://colab.research.google.com/assets/colab-badge.svg\" alt=\"Open In Colab\"/></a>"
      ]
    },
    {
      "cell_type": "code",
      "metadata": {
        "id": "vnvFx4_i7tV6"
      },
      "source": [
        "import pandas as pd\n",
        "import numpy as np\n",
        "import random\n",
        "from sklearn.utils import shuffle\n",
        "from sklearn import datasets\n",
        "from sklearn.model_selection import train_test_split\n",
        "import matplotlib.pyplot as plt\n",
        "from matplotlib import colors\n",
        "from sklearn.svm import LinearSVC"
      ],
      "execution_count": null,
      "outputs": []
    },
    {
      "cell_type": "code",
      "metadata": {
        "id": "-n2cew1572uw",
        "colab": {
          "base_uri": "https://localhost:8080/"
        },
        "outputId": "d76879c1-b2c3-4489-b9b3-0dffab9c0235"
      },
      "source": [
        "iris = datasets.load_iris()\n",
        "df = pd.DataFrame(iris.data, columns=iris.feature_names)\n",
        "df['target'] = iris.target\n",
        "print(df)"
      ],
      "execution_count": null,
      "outputs": [
        {
          "output_type": "stream",
          "text": [
            "     sepal length (cm)  sepal width (cm)  ...  petal width (cm)  target\n",
            "0                  5.1               3.5  ...               0.2       0\n",
            "1                  4.9               3.0  ...               0.2       0\n",
            "2                  4.7               3.2  ...               0.2       0\n",
            "3                  4.6               3.1  ...               0.2       0\n",
            "4                  5.0               3.6  ...               0.2       0\n",
            "..                 ...               ...  ...               ...     ...\n",
            "145                6.7               3.0  ...               2.3       2\n",
            "146                6.3               2.5  ...               1.9       2\n",
            "147                6.5               3.0  ...               2.0       2\n",
            "148                6.2               3.4  ...               2.3       2\n",
            "149                5.9               3.0  ...               1.8       2\n",
            "\n",
            "[150 rows x 5 columns]\n"
          ],
          "name": "stdout"
        }
      ]
    },
    {
      "cell_type": "code",
      "metadata": {
        "id": "8ar4zv3u8FCq"
      },
      "source": [
        "X=df.iloc[50:,2:-1].to_numpy()\n",
        "y=df.iloc[50:,-1].to_numpy()\n",
        "Y = (y == 2).astype(int)"
      ],
      "execution_count": null,
      "outputs": []
    },
    {
      "cell_type": "code",
      "metadata": {
        "id": "DeE_g-DX8KRg",
        "colab": {
          "base_uri": "https://localhost:8080/",
          "height": 281
        },
        "outputId": "61ee6224-dc9e-4983-9b7f-42642c3aa531"
      },
      "source": [
        "plt.scatter(X[:,0], X[:,1], c=Y, edgecolors='k')\n",
        "plt.title(\"Petal Length v/s Petal Width\")\n",
        "plt.show()"
      ],
      "execution_count": null,
      "outputs": [
        {
          "output_type": "display_data",
          "data": {
            "image/png": "[encoded data removed]",
            "text/plain": [
              "<Figure size 432x288 with 1 Axes>"
            ]
          },
          "metadata": {
            "tags": [],
            "needs_background": "light"
          }
        }
      ]
    },
    {
      "cell_type": "code",
      "metadata": {
        "id": "avkXL9EW8NDw",
        "colab": {
          "base_uri": "https://localhost:8080/"
        },
        "outputId": "3ec4a47c-5b27-4f80-ff98-11cc647061ee"
      },
      "source": [
        "X_train, X_test, Y_train, Y_test = train_test_split(X, Y, test_size=.2, random_state=0)\n",
        "svm = LinearSVC().fit(X_train,Y_train)\n",
        "print('Accuracy training data :', svm.score(X_train, Y_train)*100,\"%\")\n",
        "print('Accuracy test data :', svm.score(X_test, Y_test)*100,\"%\")"
      ],
      "execution_count": null,
      "outputs": [
        {
          "output_type": "stream",
          "text": [
            "Accuracy training data : 92.5 %\n",
            "Accuracy test data : 95.0 %\n"
          ],
          "name": "stdout"
        }
      ]
    },
    {
      "cell_type": "code",
      "metadata": {
        "id": "r_w9EPlV8QA4"
      },
      "source": [
        "arr = np.arange(0,100)\n",
        "np.random.shuffle(arr)\n",
        "idx_split = np.split(arr,5)\n",
        "\n",
        "class0_acc = []\n",
        "class1_acc = []\n",
        "\n",
        "for k in range(5):\n",
        "  train_idx = []\n",
        "  test_idx = []\n",
        "\n",
        "  for j in range(5):\n",
        "    if j != k:\n",
        "      train_idx.extend(idx_split[j])\n",
        "  test_idx.extend(idx_split[k])\n",
        "\n",
        "  X_train, X_test, y_train, y_test = X[train_idx], X[test_idx], Y[train_idx], Y[test_idx]\n",
        "\n",
        "  svm = LinearSVC(C=50, max_iter=100000)\n",
        "  svm.fit(X_train, y_train)\n",
        "  class0_acc.append(svm.score(X[:50],Y[:50]))\n",
        "  class1_acc.append(svm.score(X[50:],Y[50:]))"
      ],
      "execution_count": null,
      "outputs": []
    },
    {
      "cell_type": "code",
      "metadata": {
        "id": "WbszoduJ8TYm",
        "colab": {
          "base_uri": "https://localhost:8080/"
        },
        "outputId": "acaf881a-3adf-40b8-9ebb-67182a661ae1"
      },
      "source": [
        "Accuracy = pd.DataFrame({'Versicolor':class0_acc,'Virginica':class1_acc})\n",
        "\n",
        "print(Accuracy)\n",
        "print()\n",
        "print(\"Average accuracy, Versicolor:\",np.mean(class0_acc))\n",
        "print(\"Average accuracy, Virginica:\",np.mean(class1_acc))"
      ],
      "execution_count": null,
      "outputs": [
        {
          "output_type": "stream",
          "text": [
            "   Versicolor  Virginica\n",
            "0        0.94       0.96\n",
            "1        0.94       0.94\n",
            "2        0.94       0.94\n",
            "3        0.94       0.94\n",
            "4        0.94       0.94\n",
            "\n",
            "Average accuracy, Versicolor: 0.9399999999999998\n",
            "Average accuracy, Virginica: 0.944\n"
          ],
          "name": "stdout"
        }
      ]
    },
    {
      "cell_type": "code",
      "metadata": {
        "id": "EsSBOFNW8j3g"
      },
      "source": [
        "X=df.iloc[:,:-1].to_numpy()\n",
        "y=df.iloc[:,-1].to_numpy()"
      ],
      "execution_count": null,
      "outputs": []
    },
    {
      "cell_type": "code",
      "metadata": {
        "id": "SDWqdzWv8mxo"
      },
      "source": [
        "def k_means(X,K,n_iter):\n",
        "\n",
        "  centroids = []\n",
        "  m=X.shape[0]\n",
        "  n=X.shape[1]\n",
        "  for k in range(K):\n",
        "    centroids.append(X[random.randint(0,m-1)])\n",
        "  for i in range(n_iter):\n",
        "    euclid = []\n",
        "    cent = {}\n",
        "    for k in range(K):\n",
        "      dist = np.sqrt(np.sum((X-centroids[k])**2,axis=1))\n",
        "      euclid.append(dist)\n",
        "    minimum = np.argmin(euclid,axis=0)\n",
        "    for k in range(m):\n",
        "      if minimum[k] not in cent:\n",
        "        cent[minimum[k]] = []\n",
        "      cent[minimum[k]].append(X[k])\n",
        "    for k in cent:\n",
        "      centroids[k] = np.mean(cent[k],axis=0)\n",
        "  return np.array(centroids), [np.std(cent[z]) for z in range(K)], minimum"
      ],
      "execution_count": null,
      "outputs": []
    },
    {
      "cell_type": "code",
      "metadata": {
        "id": "heFfjimR8prd"
      },
      "source": [
        "def get_distance(x1, x2):\n",
        "  sum = 0\n",
        "  for i in range(len(x1)):\n",
        "      sum += (x1[i] - x2[i]) ** 2\n",
        "  return np.sqrt(sum)\n",
        "\n",
        "def list_accuracy(y_p, y_a):\n",
        "  diff = y_p - y_a\n",
        "  return len(np.where(diff == 0)[0]) / len(diff)\n",
        "\n",
        "def data_accuracy(X_,y_,w_,cent,stddev):\n",
        "  RBF_list_tst = rbf_list(X_, cent, stddev)\n",
        "  pred_ty = np.dot(RBF_list_tst, w_)\n",
        "  pred_ty = np.array([np.argmax(x) for x in pred_ty])\n",
        "  return list_accuracy(pred_ty,y_)\n",
        "\n",
        "def convert_y(x, num_of_classes):\n",
        "  arr = np.zeros((len(x), num_of_classes))\n",
        "  for i in range(len(x)):\n",
        "      c = int(x[i])\n",
        "      arr[i][c] = 1\n",
        "  return arr\n",
        "\n",
        "def rbf(x, c, s):\n",
        "  distance = get_distance(x, c)\n",
        "  return np.exp(- distance**2 / 2*(s ** 2))\n",
        "\n",
        "def rbf_list(X, centroids, std_list):\n",
        "  RBF_list = []\n",
        "  for x in X:\n",
        "      RBF_list.append([rbf(x, c, s) for (c, s) in zip(centroids, std_list)])\n",
        "  return np.array(RBF_list)\n",
        "\n",
        "def rbf_fit(X_train, y_train, X_test, y_test, number_of_classes, k):\n",
        "  centroids, std_list, y_pred = k_means(X_train, k, 1000)\n",
        "  RBF_X = rbf_list(X_train, centroids, std_list)\n",
        "  w = np.dot(np.dot(np.linalg.pinv(np.dot(RBF_X.T,RBF_X)), RBF_X.T), convert_y(y_train, number_of_classes))\n",
        "  return w, centroids, std_list"
      ],
      "execution_count": null,
      "outputs": []
    },
    {
      "cell_type": "code",
      "metadata": {
        "id": "tP5Rq5BX8waB",
        "colab": {
          "base_uri": "https://localhost:8080/"
        },
        "outputId": "c5ee5b50-2bc3-4232-ee15-94c7fe16d3bb"
      },
      "source": [
        "x1, x2, y1, y2 = train_test_split(X, y, test_size =0.2, shuffle=True)\n",
        "w, centroids, std_list = rbf_fit(x1, y1, x2, y2, 3, 3)\n",
        "\n",
        "for cls in range(3):\n",
        "  print('Class Accuracy for Class',cls,':',data_accuracy(X[y==cls], y[y==cls], w, centroids, std_list))"
      ],
      "execution_count": null,
      "outputs": [
        {
          "output_type": "stream",
          "text": [
            "Class Accuracy for Class 0 : 1.0\n",
            "Class Accuracy for Class 1 : 0.96\n",
            "Class Accuracy for Class 2 : 0.72\n"
          ],
          "name": "stdout"
        }
      ]
    },
    {
      "cell_type": "code",
      "metadata": {
        "id": "IcTtU4PP8xNS",
        "colab": {
          "base_uri": "https://localhost:8080/"
        },
        "outputId": "b36ae619-1f82-453c-fca9-0a47d21431a5"
      },
      "source": [
        "rbf_cls_acc = [[] for i in range(3)]\n",
        "\n",
        "for itr in range(10):\n",
        "  x1, x2, y1, y2 = train_test_split(X, y, test_size =0.2, shuffle=True)\n",
        "  w, centroids, std_list = rbf_fit(x1, y1, x2, y2, 3, 3)\n",
        "  for cls in range(3):\n",
        "    rbf_cls_acc[cls].append(data_accuracy(X[y==cls], y[y==cls], w, centroids, std_list))\n",
        "\n",
        "for cls in range(3):\n",
        "  print('Average Accuracy for Class',cls,\":\",np.mean(rbf_cls_acc[cls]))"
      ],
      "execution_count": null,
      "outputs": [
        {
          "output_type": "stream",
          "text": [
            "Average Accuracy for Class 0 : 1.0\n",
            "Average Accuracy for Class 1 : 0.86\n",
            "Average Accuracy for Class 2 : 0.6719999999999999\n"
          ],
          "name": "stdout"
        }
      ]
    },
    {
      "cell_type": "code",
      "metadata": {
        "id": "N_CRGUK482Kl",
        "colab": {
          "base_uri": "https://localhost:8080/"
        },
        "outputId": "baaed8e0-9019-4d49-bf29-9eca4ffc4bd5"
      },
      "source": [
        "print('\\nOverall Accuracy: ', data_accuracy(X, y, w, centroids, std_list))"
      ],
      "execution_count": null,
      "outputs": [
        {
          "output_type": "stream",
          "text": [
            "\n",
            "Overall Accuracy:  0.8933333333333333\n"
          ],
          "name": "stdout"
        }
      ]
    }
  ]
}