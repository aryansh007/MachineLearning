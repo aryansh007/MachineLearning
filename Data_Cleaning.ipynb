{
  "nbformat": 4,
  "nbformat_minor": 0,
  "metadata": {
    "colab": {
      "name": "Data Cleaning.ipynb",
      "provenance": [],
      "include_colab_link": true
    },
    "kernelspec": {
      "name": "python3",
      "display_name": "Python 3"
    }
  },
  "cells": [
    {
      "cell_type": "markdown",
      "metadata": {
        "id": "view-in-github",
        "colab_type": "text"
      },
      "source": [
        "<a href=\"https://colab.research.google.com/github/aryansh007/MachineLearning/blob/main/Data_Cleaning.ipynb\" target=\"_parent\"><img src=\"https://colab.research.google.com/assets/colab-badge.svg\" alt=\"Open In Colab\"/></a>"
      ]
    },
    {
      "cell_type": "code",
      "metadata": {
        "id": "7VwaMXyjBBJ2",
        "colab": {
          "base_uri": "https://localhost:8080/",
          "height": 419
        },
        "outputId": "bf9b7fb4-8c91-40c0-ac6a-97f867257113"
      },
      "source": [
        "import pandas as pd\n",
        "import numpy as np\n",
        "from matplotlib import pyplot as plt\n",
        "import dateutil.parser as dparser\n",
        "from sklearn.cluster import KMeans\n",
        " \n",
        "def del_duplicates(df):\n",
        "  df = df.drop_duplicates(keep='last', inplace=False)\n",
        "  app_data_df['Last Updated'] = pd.to_datetime(app_data_df['Last Updated'])\n",
        "  df = df.sort_values(by=['App',  'Last Updated'], ascending=False)\n",
        "  df = df.drop_duplicates(subset='App', keep='first', inplace=False)\n",
        "  return df\n",
        " \n",
        "#read dataset\n",
        "app_data_df = pd.read_csv('googleplaystore.csv')\n",
        " \n",
        "#Drop the abnormal row\n",
        "app_data_df.drop(app_data_df[app_data_df['App'] == 'Life Made WI-Fi Touchscreen Photo Frame'].index, inplace=True)\n",
        " \n",
        "#Delete all duplicate apps\n",
        "app_data_df = del_duplicates(app_data_df)\n",
        " \n",
        "#Drop the meaningless attributes\n",
        "app_data_df = app_data_df[['Category', 'Rating', 'Reviews', 'Installs', 'Type', 'Price', 'Content Rating']]\n",
        " \n",
        "#Drop the rows with missing values\n",
        "for row in app_data_df[app_data_df.isnull().any(axis=1)].index:\n",
        "  app_data_df = app_data_df.drop(row)\n",
        "app_data_df = app_data_df.reset_index(drop=True)\n",
        " \n",
        "display(app_data_df)"
      ],
      "execution_count": null,
      "outputs": [
        {
          "output_type": "display_data",
          "data": {
            "text/html": [
              "<div>\n",
              "<style scoped>\n",
              "    .dataframe tbody tr th:only-of-type {\n",
              "        vertical-align: middle;\n",
              "    }\n",
              "\n",
              "    .dataframe tbody tr th {\n",
              "        vertical-align: top;\n",
              "    }\n",
              "\n",
              "    .dataframe thead th {\n",
              "        text-align: right;\n",
              "    }\n",
              "</style>\n",
              "<table border=\"1\" class=\"dataframe\">\n",
              "  <thead>\n",
              "    <tr style=\"text-align: right;\">\n",
              "      <th></th>\n",
              "      <th>Category</th>\n",
              "      <th>Rating</th>\n",
              "      <th>Reviews</th>\n",
              "      <th>Installs</th>\n",
              "      <th>Type</th>\n",
              "      <th>Price</th>\n",
              "      <th>Content Rating</th>\n",
              "    </tr>\n",
              "  </thead>\n",
              "  <tbody>\n",
              "    <tr>\n",
              "      <th>0</th>\n",
              "      <td>ENTERTAINMENT</td>\n",
              "      <td>4.7</td>\n",
              "      <td>11661</td>\n",
              "      <td>1,000,000+</td>\n",
              "      <td>Free</td>\n",
              "      <td>0</td>\n",
              "      <td>Everyone</td>\n",
              "    </tr>\n",
              "    <tr>\n",
              "      <th>1</th>\n",
              "      <td>TOOLS</td>\n",
              "      <td>4.0</td>\n",
              "      <td>19</td>\n",
              "      <td>10,000+</td>\n",
              "      <td>Free</td>\n",
              "      <td>0</td>\n",
              "      <td>Everyone</td>\n",
              "    </tr>\n",
              "    <tr>\n",
              "      <th>2</th>\n",
              "      <td>SOCIAL</td>\n",
              "      <td>4.6</td>\n",
              "      <td>22098</td>\n",
              "      <td>1,000,000+</td>\n",
              "      <td>Free</td>\n",
              "      <td>0</td>\n",
              "      <td>Everyone</td>\n",
              "    </tr>\n",
              "    <tr>\n",
              "      <th>3</th>\n",
              "      <td>LIFESTYLE</td>\n",
              "      <td>3.8</td>\n",
              "      <td>718</td>\n",
              "      <td>10,000+</td>\n",
              "      <td>Paid</td>\n",
              "      <td>$399.99</td>\n",
              "      <td>Everyone</td>\n",
              "    </tr>\n",
              "    <tr>\n",
              "      <th>4</th>\n",
              "      <td>COMICS</td>\n",
              "      <td>4.4</td>\n",
              "      <td>190</td>\n",
              "      <td>10,000+</td>\n",
              "      <td>Free</td>\n",
              "      <td>0</td>\n",
              "      <td>Everyone</td>\n",
              "    </tr>\n",
              "    <tr>\n",
              "      <th>...</th>\n",
              "      <td>...</td>\n",
              "      <td>...</td>\n",
              "      <td>...</td>\n",
              "      <td>...</td>\n",
              "      <td>...</td>\n",
              "      <td>...</td>\n",
              "      <td>...</td>\n",
              "    </tr>\n",
              "    <tr>\n",
              "      <th>8190</th>\n",
              "      <td>NEWS_AND_MAGAZINES</td>\n",
              "      <td>4.4</td>\n",
              "      <td>27</td>\n",
              "      <td>100+</td>\n",
              "      <td>Free</td>\n",
              "      <td>0</td>\n",
              "      <td>Everyone</td>\n",
              "    </tr>\n",
              "    <tr>\n",
              "      <th>8191</th>\n",
              "      <td>COMMUNICATION</td>\n",
              "      <td>4.7</td>\n",
              "      <td>573</td>\n",
              "      <td>10,000+</td>\n",
              "      <td>Free</td>\n",
              "      <td>0</td>\n",
              "      <td>Mature 17+</td>\n",
              "    </tr>\n",
              "    <tr>\n",
              "      <th>8192</th>\n",
              "      <td>TOOLS</td>\n",
              "      <td>4.5</td>\n",
              "      <td>259</td>\n",
              "      <td>10,000+</td>\n",
              "      <td>Free</td>\n",
              "      <td>0</td>\n",
              "      <td>Everyone</td>\n",
              "    </tr>\n",
              "    <tr>\n",
              "      <th>8193</th>\n",
              "      <td>COMICS</td>\n",
              "      <td>3.5</td>\n",
              "      <td>115</td>\n",
              "      <td>10,000+</td>\n",
              "      <td>Free</td>\n",
              "      <td>0</td>\n",
              "      <td>Mature 17+</td>\n",
              "    </tr>\n",
              "    <tr>\n",
              "      <th>8194</th>\n",
              "      <td>SOCIAL</td>\n",
              "      <td>4.5</td>\n",
              "      <td>40467</td>\n",
              "      <td>1,000,000+</td>\n",
              "      <td>Free</td>\n",
              "      <td>0</td>\n",
              "      <td>Everyone</td>\n",
              "    </tr>\n",
              "  </tbody>\n",
              "</table>\n",
              "<p>8195 rows × 7 columns</p>\n",
              "</div>"
            ],
            "text/plain": [
              "                Category  Rating Reviews  ...  Type    Price Content Rating\n",
              "0          ENTERTAINMENT     4.7   11661  ...  Free        0       Everyone\n",
              "1                  TOOLS     4.0      19  ...  Free        0       Everyone\n",
              "2                 SOCIAL     4.6   22098  ...  Free        0       Everyone\n",
              "3              LIFESTYLE     3.8     718  ...  Paid  $399.99       Everyone\n",
              "4                 COMICS     4.4     190  ...  Free        0       Everyone\n",
              "...                  ...     ...     ...  ...   ...      ...            ...\n",
              "8190  NEWS_AND_MAGAZINES     4.4      27  ...  Free        0       Everyone\n",
              "8191       COMMUNICATION     4.7     573  ...  Free        0     Mature 17+\n",
              "8192               TOOLS     4.5     259  ...  Free        0       Everyone\n",
              "8193              COMICS     3.5     115  ...  Free        0     Mature 17+\n",
              "8194              SOCIAL     4.5   40467  ...  Free        0       Everyone\n",
              "\n",
              "[8195 rows x 7 columns]"
            ]
          },
          "metadata": {
            "tags": []
          }
        }
      ]
    },
    {
      "cell_type": "code",
      "metadata": {
        "id": "oeLEt0FNUSDC"
      },
      "source": [
        "app_data_df['Installs'] = app_data_df.Installs.str.replace('+', '')\n",
        "app_data_df['Installs'] = app_data_df.Installs.str.replace(',', '')\n",
        "app_data_df['Price'] = app_data_df.Price.str.replace('$','')"
      ],
      "execution_count": null,
      "outputs": []
    },
    {
      "cell_type": "code",
      "metadata": {
        "id": "vXPSCeYATI0L"
      },
      "source": [
        "data_array = app_data_df.values\n",
        "\n",
        "data_array[:, 1] = data_array[:, 1].astype(float) \n",
        "data_array[:, 2] = data_array[:, 2].astype(float)\n",
        "data_array[:, 3] = data_array[:, 3].astype(float)\n",
        "data_array[:, 5] = data_array[:, 5].astype(float)"
      ],
      "execution_count": null,
      "outputs": []
    },
    {
      "cell_type": "code",
      "metadata": {
        "colab": {
          "base_uri": "https://localhost:8080/",
          "height": 419
        },
        "id": "iIavqmyd7Nyu",
        "outputId": "5991b390-67ce-40f1-c387-be34307b583b"
      },
      "source": [
        "app_data_df = app_data_df[['Rating', 'Reviews', 'Installs', 'Price']]\n",
        "app_data_df"
      ],
      "execution_count": null,
      "outputs": [
        {
          "output_type": "execute_result",
          "data": {
            "text/html": [
              "<div>\n",
              "<style scoped>\n",
              "    .dataframe tbody tr th:only-of-type {\n",
              "        vertical-align: middle;\n",
              "    }\n",
              "\n",
              "    .dataframe tbody tr th {\n",
              "        vertical-align: top;\n",
              "    }\n",
              "\n",
              "    .dataframe thead th {\n",
              "        text-align: right;\n",
              "    }\n",
              "</style>\n",
              "<table border=\"1\" class=\"dataframe\">\n",
              "  <thead>\n",
              "    <tr style=\"text-align: right;\">\n",
              "      <th></th>\n",
              "      <th>Rating</th>\n",
              "      <th>Reviews</th>\n",
              "      <th>Installs</th>\n",
              "      <th>Price</th>\n",
              "    </tr>\n",
              "  </thead>\n",
              "  <tbody>\n",
              "    <tr>\n",
              "      <th>0</th>\n",
              "      <td>4.7</td>\n",
              "      <td>11661</td>\n",
              "      <td>1000000</td>\n",
              "      <td>0</td>\n",
              "    </tr>\n",
              "    <tr>\n",
              "      <th>1</th>\n",
              "      <td>4.0</td>\n",
              "      <td>19</td>\n",
              "      <td>10000</td>\n",
              "      <td>0</td>\n",
              "    </tr>\n",
              "    <tr>\n",
              "      <th>2</th>\n",
              "      <td>4.6</td>\n",
              "      <td>22098</td>\n",
              "      <td>1000000</td>\n",
              "      <td>0</td>\n",
              "    </tr>\n",
              "    <tr>\n",
              "      <th>3</th>\n",
              "      <td>3.8</td>\n",
              "      <td>718</td>\n",
              "      <td>10000</td>\n",
              "      <td>399.99</td>\n",
              "    </tr>\n",
              "    <tr>\n",
              "      <th>4</th>\n",
              "      <td>4.4</td>\n",
              "      <td>190</td>\n",
              "      <td>10000</td>\n",
              "      <td>0</td>\n",
              "    </tr>\n",
              "    <tr>\n",
              "      <th>...</th>\n",
              "      <td>...</td>\n",
              "      <td>...</td>\n",
              "      <td>...</td>\n",
              "      <td>...</td>\n",
              "    </tr>\n",
              "    <tr>\n",
              "      <th>8190</th>\n",
              "      <td>4.4</td>\n",
              "      <td>27</td>\n",
              "      <td>100</td>\n",
              "      <td>0</td>\n",
              "    </tr>\n",
              "    <tr>\n",
              "      <th>8191</th>\n",
              "      <td>4.7</td>\n",
              "      <td>573</td>\n",
              "      <td>10000</td>\n",
              "      <td>0</td>\n",
              "    </tr>\n",
              "    <tr>\n",
              "      <th>8192</th>\n",
              "      <td>4.5</td>\n",
              "      <td>259</td>\n",
              "      <td>10000</td>\n",
              "      <td>0</td>\n",
              "    </tr>\n",
              "    <tr>\n",
              "      <th>8193</th>\n",
              "      <td>3.5</td>\n",
              "      <td>115</td>\n",
              "      <td>10000</td>\n",
              "      <td>0</td>\n",
              "    </tr>\n",
              "    <tr>\n",
              "      <th>8194</th>\n",
              "      <td>4.5</td>\n",
              "      <td>40467</td>\n",
              "      <td>1000000</td>\n",
              "      <td>0</td>\n",
              "    </tr>\n",
              "  </tbody>\n",
              "</table>\n",
              "<p>8195 rows × 4 columns</p>\n",
              "</div>"
            ],
            "text/plain": [
              "      Rating Reviews Installs   Price\n",
              "0        4.7   11661  1000000       0\n",
              "1        4.0      19    10000       0\n",
              "2        4.6   22098  1000000       0\n",
              "3        3.8     718    10000  399.99\n",
              "4        4.4     190    10000       0\n",
              "...      ...     ...      ...     ...\n",
              "8190     4.4      27      100       0\n",
              "8191     4.7     573    10000       0\n",
              "8192     4.5     259    10000       0\n",
              "8193     3.5     115    10000       0\n",
              "8194     4.5   40467  1000000       0\n",
              "\n",
              "[8195 rows x 4 columns]"
            ]
          },
          "metadata": {
            "tags": []
          },
          "execution_count": 22
        }
      ]
    },
    {
      "cell_type": "code",
      "metadata": {
        "colab": {
          "base_uri": "https://localhost:8080/",
          "height": 592
        },
        "id": "GSYdnWBD_dhI",
        "outputId": "50c00c12-3b67-433a-899c-114eb255513e"
      },
      "source": [
        "plt.scatter(app_data_df['Rating'], app_data_df['Price'])\n",
        "plt.rcParams['figure.figsize'] = (10,10)\n",
        "plt.show()"
      ],
      "execution_count": null,
      "outputs": [
        {
          "output_type": "display_data",
          "data": {
            "image/png": "[encoded data removed]",
            "text/plain": [
              "<Figure size 720x720 with 1 Axes>"
            ]
          },
          "metadata": {
            "tags": [],
            "needs_background": "light"
          }
        }
      ]
    },
    {
      "cell_type": "code",
      "metadata": {
        "id": "yprGpnll8qcf"
      },
      "source": [
        "from sklearn.preprocessing import MinMaxScaler \n",
        "scaler = MinMaxScaler()\n",
        "\n",
        "scaler.fit(app_data_df[['Rating']])\n",
        "app_data_df['Rating'] = scaler.transform(app_data_df[['Rating']])\n",
        "\n",
        "scaler.fit(app_data_df[['Price']])\n",
        "app_data_df['Price'] = scaler.transform(app_data_df[['Price']]) \n",
        "\n",
        "scaler.fit(app_data_df[['Installs']])\n",
        "app_data_df['Installs'] = scaler.transform(app_data_df[['Installs']]) \n",
        "\n",
        "scaler.fit(app_data_df[['Reviews']])\n",
        "app_data_df['Reviews'] = scaler.transform(app_data_df[['Reviews']])"
      ],
      "execution_count": null,
      "outputs": []
    },
    {
      "cell_type": "code",
      "metadata": {
        "colab": {
          "base_uri": "https://localhost:8080/",
          "height": 592
        },
        "id": "SqarKmaB9oTY",
        "outputId": "8c0f9e98-1d42-4617-e06c-088ecd0feb80"
      },
      "source": [
        "plt.scatter(app_data_df['Rating'], app_data_df['Price'])\n",
        "plt.rcParams['figure.figsize'] = (10,10)\n",
        "plt.show()"
      ],
      "execution_count": null,
      "outputs": [
        {
          "output_type": "display_data",
          "data": {
            "image/png": "[encoded data removed]",
            "text/plain": [
              "<Figure size 720x720 with 1 Axes>"
            ]
          },
          "metadata": {
            "tags": [],
            "needs_background": "light"
          }
        }
      ]
    }
  ]
}